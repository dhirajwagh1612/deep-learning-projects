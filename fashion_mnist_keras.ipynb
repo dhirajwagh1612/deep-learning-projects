{
 "cells": [
  {
   "cell_type": "code",
   "execution_count": 1,
   "metadata": {
    "id": "K_pV51CssIqs"
   },
   "outputs": [],
   "source": [
    "# Dhiraj Wagh"
   ]
  },
  {
   "cell_type": "code",
   "execution_count": 40,
   "metadata": {
    "id": "F0XoZliKnJvZ"
   },
   "outputs": [],
   "source": [
    "import tensorflow as tf\n",
    "from sklearn.model_selection import train_test_split\n",
    "import numpy as np\n",
    "import pandas as pd\n",
    "from tensorflow import keras\n",
    "\n",
    "# import functions from keras and tf for CNN model building\n",
    "from keras.models import Sequential\n",
    "from keras.layers import Dense, Dropout, Flatten\n",
    "from keras.layers import Conv2D, MaxPool2D\n",
    "\n",
    "# importing the fashion_mnist dataset from keras\n",
    "from keras.datasets import fashion_mnist\n",
    "\n",
    "from keras import backend as k\n",
    "from numpy import mean"
   ]
  },
  {
   "cell_type": "code",
   "execution_count": 41,
   "metadata": {
    "id": "b6r6bTVKnpef"
   },
   "outputs": [],
   "source": [
    "BATCH_SIZE = 300,\n",
    "EPOCH = 20\n",
    "image_row, image_column = 28,28\n",
    "INPUT_SHAPE = (image_row,image_column,1)\n",
    "NUMBER_OF_CLASSES = 10 \n",
    "class_name = ['T-shirt/top', 'Trouser', 'Pullover', 'Dress', 'Coat',\n",
    "               'Sandal', 'Shirt', 'Sneaker', 'Bag', 'Ankle boot']"
   ]
  },
  {
   "cell_type": "code",
   "execution_count": 42,
   "metadata": {
    "id": "COHAdISXA4og"
   },
   "outputs": [],
   "source": [
    "#loading the fashion_minst data in train and test data respectively \n",
    "(x_train, y_train), (x_test, y_test) = tf.keras.datasets.fashion_mnist.load_data()"
   ]
  },
  {
   "cell_type": "code",
   "execution_count": 43,
   "metadata": {
    "colab": {
     "base_uri": "https://localhost:8080/"
    },
    "id": "FT44Dvv-LTap",
    "outputId": "1731fcd6-ceeb-44b6-eee6-a7823985cceb"
   },
   "outputs": [
    {
     "data": {
      "text/plain": [
       "array([9, 2, 1, ..., 8, 1, 5], dtype=uint8)"
      ]
     },
     "execution_count": 43,
     "metadata": {},
     "output_type": "execute_result"
    }
   ],
   "source": [
    "y_test"
   ]
  },
  {
   "cell_type": "code",
   "execution_count": 44,
   "metadata": {
    "colab": {
     "base_uri": "https://localhost:8080/"
    },
    "id": "GWWRjyx7BkKz",
    "outputId": "c4826e45-7b9e-45d4-8423-d0045c7dd24c"
   },
   "outputs": [
    {
     "name": "stdout",
     "output_type": "stream",
     "text": [
      "the train shape:   (60000, 28, 28, 1)\n",
      "testing shape:   (10000, 28, 28, 1)\n"
     ]
    }
   ],
   "source": [
    "# normalization for x_train and x_test\n",
    "if k.image_data_format() == 'channels_first':\n",
    "  x_train = x_train.reshape(x_train.shape[0],1, image_row,image_column)\n",
    "  x_test = x_test.reshape(x_test.shape[0],1, image_row,image_column)\n",
    "  INPUT_SHAPE = (image_row,image_column,1)\n",
    "\n",
    "else:\n",
    "  x_train = x_train.reshape(x_train.shape[0],image_row,image_column,1)\n",
    "  x_test = x_test.reshape(x_test.shape[0],image_row,image_column,1)\n",
    "  INPUT_SHAPE = (image_row,image_column,1)\n",
    "\n",
    "\n",
    "x_train = x_train/255.0\n",
    "x_test = x_test/255.0\n",
    "\n",
    "print(\"the train shape:  \", x_train.shape)\n",
    "\n",
    "print(\"testing shape:  \", x_test.shape)"
   ]
  },
  {
   "cell_type": "code",
   "execution_count": 45,
   "metadata": {
    "id": "0z8hn43bCdPQ"
   },
   "outputs": [],
   "source": [
    "no_of_class = len(set(y_train))"
   ]
  },
  {
   "cell_type": "code",
   "execution_count": 46,
   "metadata": {
    "id": "u5vnx72jn14v"
   },
   "outputs": [],
   "source": [
    "y_train = keras.utils.to_categorical(y_train)\n",
    "y_test_1 = keras.utils.to_categorical(y_test)"
   ]
  },
  {
   "cell_type": "code",
   "execution_count": 47,
   "metadata": {
    "id": "Q2ZTS8CNrhrz"
   },
   "outputs": [],
   "source": [
    "# CNN model building\n",
    "\n",
    "cnn_model = Sequential()\n",
    "\n",
    "cnn_model.add(Conv2D(32, kernel_size=(3,3), strides=(1,1), padding='valid', activation='relu'))\n",
    "\n",
    "cnn_model.add(Conv2D(64, kernel_size=(3,3), strides=(1,1), padding='valid', activation='relu'))\n",
    "\n",
    "cnn_model.add(MaxPool2D(pool_size =(2,2)))\n",
    "\n",
    "cnn_model.add(tf.keras.layers.Dense(units = 64, activation = 'tanh'))\n",
    "\n",
    "cnn_model.add(Dropout(0.5, noise_shape=None, seed=None))\n",
    "\n",
    "cnn_model.add(tf.keras.layers.Dense(units = 128, activation = 'relu'))\n",
    "\n",
    "cnn_model.add(tf.keras.layers.Flatten())\n",
    "\n",
    "cnn_model.add(Dense(NUMBER_OF_CLASSES,  activation= 'softmax'))"
   ]
  },
  {
   "cell_type": "code",
   "execution_count": null,
   "metadata": {
    "id": "lqaVs_ZaC07z"
   },
   "outputs": [],
   "source": []
  },
  {
   "cell_type": "code",
   "execution_count": 48,
   "metadata": {
    "id": "_7fLGH1dy2Mc"
   },
   "outputs": [],
   "source": [
    "cnn_model.compile(loss= keras.losses.categorical_crossentropy,\n",
    "              optimizer=keras.optimizers.SGD(learning_rate=0.01, momentum=0.9),\n",
    "              metrics=['accuracy'])"
   ]
  },
  {
   "cell_type": "code",
   "execution_count": 49,
   "metadata": {
    "colab": {
     "base_uri": "https://localhost:8080/",
     "height": 693
    },
    "id": "wWTm2gRVy_K0",
    "outputId": "4538231b-ed37-49b0-b1b3-e2f83f21d188"
   },
   "outputs": [
    {
     "name": "stdout",
     "output_type": "stream",
     "text": [
      "Epoch 1/20\n",
      "60/60 [==============================] - 61s 1s/step - loss: 1.3476 - accuracy: 0.5487 - val_loss: 0.8001 - val_accuracy: 0.7104\n",
      "Epoch 2/20\n",
      "60/60 [==============================] - 60s 1s/step - loss: 0.6578 - accuracy: 0.7568 - val_loss: 0.6039 - val_accuracy: 0.7813\n",
      "Epoch 3/20\n",
      "60/60 [==============================] - 61s 1s/step - loss: 0.5903 - accuracy: 0.7823 - val_loss: 0.5560 - val_accuracy: 0.8005\n",
      "Epoch 4/20\n",
      "60/60 [==============================] - 60s 1s/step - loss: 0.5342 - accuracy: 0.8053 - val_loss: 0.5298 - val_accuracy: 0.8110\n",
      "Epoch 5/20\n",
      "60/60 [==============================] - 61s 1s/step - loss: 0.4919 - accuracy: 0.8240 - val_loss: 0.4748 - val_accuracy: 0.8302\n",
      "Epoch 6/20\n",
      "60/60 [==============================] - 61s 1s/step - loss: 0.4595 - accuracy: 0.8355 - val_loss: 0.4716 - val_accuracy: 0.8299\n",
      "Epoch 7/20\n",
      "60/60 [==============================] - 60s 1s/step - loss: 0.4374 - accuracy: 0.8436 - val_loss: 0.4410 - val_accuracy: 0.8420\n",
      "Epoch 8/20\n",
      "60/60 [==============================] - 59s 989ms/step - loss: 0.4176 - accuracy: 0.8501 - val_loss: 0.4182 - val_accuracy: 0.8510\n",
      "Epoch 9/20\n",
      "60/60 [==============================] - 59s 991ms/step - loss: 0.3986 - accuracy: 0.8586 - val_loss: 0.4010 - val_accuracy: 0.8585\n",
      "Epoch 10/20\n",
      "60/60 [==============================] - 60s 992ms/step - loss: 0.3870 - accuracy: 0.8633 - val_loss: 0.3916 - val_accuracy: 0.8642\n",
      "Epoch 11/20\n",
      "60/60 [==============================] - 60s 1s/step - loss: 0.3803 - accuracy: 0.8649 - val_loss: 0.3684 - val_accuracy: 0.8714\n",
      "Epoch 12/20\n",
      "60/60 [==============================] - 59s 988ms/step - loss: 0.3697 - accuracy: 0.8687 - val_loss: 0.3699 - val_accuracy: 0.8701\n",
      "Epoch 13/20\n",
      "60/60 [==============================] - 59s 990ms/step - loss: 0.3575 - accuracy: 0.8743 - val_loss: 0.3625 - val_accuracy: 0.8742\n",
      "Epoch 14/20\n",
      "60/60 [==============================] - 63s 1s/step - loss: 0.3538 - accuracy: 0.8741 - val_loss: 0.3679 - val_accuracy: 0.8686\n",
      "Epoch 15/20\n",
      "60/60 [==============================] - 73s 1s/step - loss: 0.3470 - accuracy: 0.8769 - val_loss: 0.3558 - val_accuracy: 0.8767\n",
      "Epoch 16/20\n",
      "60/60 [==============================] - 63s 1s/step - loss: 0.3441 - accuracy: 0.8767 - val_loss: 0.3601 - val_accuracy: 0.8738\n",
      "Epoch 17/20\n",
      "60/60 [==============================] - 60s 997ms/step - loss: 0.3346 - accuracy: 0.8814 - val_loss: 0.3442 - val_accuracy: 0.8787\n",
      "Epoch 18/20\n",
      "60/60 [==============================] - 60s 994ms/step - loss: 0.3247 - accuracy: 0.8846 - val_loss: 0.3379 - val_accuracy: 0.8812\n",
      "Epoch 19/20\n",
      "60/60 [==============================] - 60s 993ms/step - loss: 0.3197 - accuracy: 0.8867 - val_loss: 0.3432 - val_accuracy: 0.8766\n",
      "Epoch 20/20\n",
      "60/60 [==============================] - 59s 991ms/step - loss: 0.3214 - accuracy: 0.8870 - val_loss: 0.3228 - val_accuracy: 0.8888\n"
     ]
    }
   ],
   "source": [
    "cnn=cnn_model.fit(x_train, y_train,batch_size=1000,epochs=20, validation_data= (x_test, y_test_1))"
   ]
  },
  {
   "cell_type": "code",
   "execution_count": 51,
   "metadata": {
    "colab": {
     "base_uri": "https://localhost:8080/"
    },
    "id": "K4-zNN8N7EYX",
    "outputId": "2f433a9c-9877-420a-ff8e-4a2436b3b42a"
   },
   "outputs": [
    {
     "name": "stdout",
     "output_type": "stream",
     "text": [
      "Model: \"sequential_2\"\n",
      "_________________________________________________________________\n",
      " Layer (type)                Output Shape              Param #   \n",
      "=================================================================\n",
      " conv2d_4 (Conv2D)           (1000, 26, 26, 32)        320       \n",
      "                                                                 \n",
      " conv2d_5 (Conv2D)           (1000, 24, 24, 64)        18496     \n",
      "                                                                 \n",
      " max_pooling2d_2 (MaxPooling  (1000, 12, 12, 64)       0         \n",
      " 2D)                                                             \n",
      "                                                                 \n",
      " dense_6 (Dense)             (1000, 12, 12, 64)        4160      \n",
      "                                                                 \n",
      " dropout_2 (Dropout)         (1000, 12, 12, 64)        0         \n",
      "                                                                 \n",
      " dense_7 (Dense)             (1000, 12, 12, 128)       8320      \n",
      "                                                                 \n",
      " flatten_2 (Flatten)         (1000, 18432)             0         \n",
      "                                                                 \n",
      " dense_8 (Dense)             (1000, 10)                184330    \n",
      "                                                                 \n",
      "=================================================================\n",
      "Total params: 215,626\n",
      "Trainable params: 215,626\n",
      "Non-trainable params: 0\n",
      "_________________________________________________________________\n"
     ]
    }
   ],
   "source": [
    "cnn_model.summary()"
   ]
  },
  {
   "cell_type": "code",
   "execution_count": 52,
   "metadata": {
    "colab": {
     "base_uri": "https://localhost:8080/"
    },
    "id": "ONepoPb-j_Z9",
    "outputId": "a9e257b0-7e6f-47d6-cdde-31dfce190142"
   },
   "outputs": [
    {
     "name": "stdout",
     "output_type": "stream",
     "text": [
      "Requirement already satisfied: pydot in c:\\users\\dhira\\anaconda3\\lib\\site-packages (1.4.2)\n",
      "Requirement already satisfied: pyparsing>=2.1.4 in c:\\users\\dhira\\anaconda3\\lib\\site-packages (from pydot) (2.4.7)\n",
      "Note: you may need to restart the kernel to use updated packages.\n"
     ]
    }
   ],
   "source": [
    "pip install pydot"
   ]
  },
  {
   "cell_type": "code",
   "execution_count": 53,
   "metadata": {
    "colab": {
     "base_uri": "https://localhost:8080/",
     "height": 976
    },
    "id": "knMXlDpHkGno",
    "outputId": "e2d6bad0-8034-49e6-d781-473655059c5e"
   },
   "outputs": [
    {
     "name": "stdout",
     "output_type": "stream",
     "text": [
      "('You must install pydot (`pip install pydot`) and install graphviz (see instructions at https://graphviz.gitlab.io/download/) ', 'for plot_model/model_to_dot to work.')\n"
     ]
    }
   ],
   "source": [
    "keras.utils.plot_model(cnn_model, show_shapes=True)"
   ]
  },
  {
   "cell_type": "code",
   "execution_count": 54,
   "metadata": {
    "colab": {
     "base_uri": "https://localhost:8080/"
    },
    "id": "L8bcHWfO6_Y5",
    "outputId": "8ac2dea7-0e84-42ca-c425-94fde397cbea"
   },
   "outputs": [
    {
     "name": "stdout",
     "output_type": "stream",
     "text": [
      "Training Accuracy : 83.717666\n",
      "Validation Accuracy  : 84.695500\n",
      "Training Loss : 45.873395\n",
      "Validation Loss : 43.103071\n"
     ]
    }
   ],
   "source": [
    "print('Training Accuracy : %2f'%(mean(cnn.history['accuracy'])*100))\n",
    "print('Validation Accuracy  : %2f'%(mean(cnn.history['val_accuracy'])*100))\n",
    "print('Training Loss : %2f'%(mean(cnn.history['loss'])*100))\n",
    "print('Validation Loss : %2f'%(mean(cnn.history['val_loss'])*100))"
   ]
  },
  {
   "cell_type": "code",
   "execution_count": 55,
   "metadata": {
    "colab": {
     "base_uri": "https://localhost:8080/"
    },
    "id": "hGopjKi5kqDi",
    "outputId": "be880ea5-2eea-4b27-cff9-c77059a32a03"
   },
   "outputs": [
    {
     "name": "stdout",
     "output_type": "stream",
     "text": [
      "[[835   2  17  15   1   0 126   0   4   0]\n",
      " [  1 965   1   5   1   0   1   0   2   0]\n",
      " [ 10   0 788   8  30   0  65   0   2   0]\n",
      " [ 35  23   9 920  37   2  32   0  10   0]\n",
      " [  8   5 106  25 883   0 101   0   9   0]\n",
      " [  1   0   0   0   0 952   0   4   3   3]\n",
      " [101   4  78  27  47   0 672   0  14   0]\n",
      " [  0   0   0   0   0  33   0 969   5  43]\n",
      " [  9   1   1   0   1   1   3   0 951   1]\n",
      " [  0   0   0   0   0  12   0  27   0 953]]\n"
     ]
    }
   ],
   "source": [
    "y_hat = cnn_model.predict(x_test).argmax(axis=1)\n",
    "from sklearn.metrics import confusion_matrix\n",
    "cm = confusion_matrix(y_hat,y_test)\n",
    "print(cm)"
   ]
  },
  {
   "cell_type": "code",
   "execution_count": 56,
   "metadata": {
    "colab": {
     "base_uri": "https://localhost:8080/",
     "height": 610
    },
    "id": "2aWwu8pxK-EE",
    "outputId": "26c4e30a-4a74-46d1-a786-1f14aa76328f"
   },
   "outputs": [
    {
     "data": {
      "text/plain": [
       "<AxesSubplot:>"
      ]
     },
     "execution_count": 56,
     "metadata": {},
     "output_type": "execute_result"
    },
    {
     "data": {
      "image/png": "[encoded data removed]",
      "text/plain": [
       "<Figure size 720x720 with 2 Axes>"
      ]
     },
     "metadata": {
      "needs_background": "light"
     },
     "output_type": "display_data"
    }
   ],
   "source": [
    "import seaborn as sns\n",
    "import matplotlib.pyplot as plt\n",
    "fig, ax = plt.subplots(figsize=(10, 10))\n",
    "sns.heatmap(cm, annot=True, ax = ax,cmap='Blues',fmt='g')"
   ]
  },
  {
   "cell_type": "code",
   "execution_count": 57,
   "metadata": {
    "colab": {
     "base_uri": "https://localhost:8080/"
    },
    "id": "esq4_y3j6iWH",
    "outputId": "f3bb1780-2cca-4b08-9322-b6ab21c63d58"
   },
   "outputs": [
    {
     "data": {
      "text/plain": [
       "0.8888"
      ]
     },
     "execution_count": 57,
     "metadata": {},
     "output_type": "execute_result"
    }
   ],
   "source": [
    "import sklearn.metrics\n",
    "sklearn.metrics.accuracy_score(y_hat, y_test)"
   ]
  },
  {
   "cell_type": "code",
   "execution_count": null,
   "metadata": {},
   "outputs": [],
   "source": []
  }
 ],
 "metadata": {
  "colab": {
   "collapsed_sections": [],
   "name": "fashion_mnist_keras.ipynb",
   "provenance": []
  },
  "kernelspec": {
   "display_name": "Python 3",
   "language": "python",
   "name": "python3"
  },
  "language_info": {
   "codemirror_mode": {
    "name": "ipython",
    "version": 3
   },
   "file_extension": ".py",
   "mimetype": "text/x-python",
   "name": "python",
   "nbconvert_exporter": "python",
   "pygments_lexer": "ipython3",
   "version": "3.8.8"
  }
 },
 "nbformat": 4,
 "nbformat_minor": 1
}
