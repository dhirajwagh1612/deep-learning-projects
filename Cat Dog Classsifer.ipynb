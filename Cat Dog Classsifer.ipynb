{
 "cells": [
  {
   "cell_type": "code",
   "execution_count": 1,
   "id": "369237fd",
   "metadata": {},
   "outputs": [],
   "source": [
    "import tensorflow as tf\n",
    "from keras.preprocessing.image import ImageDataGenerator"
   ]
  },
  {
   "cell_type": "code",
   "execution_count": 2,
   "id": "44481d16",
   "metadata": {},
   "outputs": [
    {
     "data": {
      "text/plain": [
       "'2.7.0'"
      ]
     },
     "execution_count": 2,
     "metadata": {},
     "output_type": "execute_result"
    }
   ],
   "source": [
    "tf.__version__"
   ]
  },
  {
   "cell_type": "code",
   "execution_count": 3,
   "id": "25af72f1",
   "metadata": {},
   "outputs": [],
   "source": [
    "# preprocessing the training set\n",
    "train_datagen = ImageDataGenerator(\n",
    "rescale=1./255,\n",
    "shear_range=0.2,\n",
    "zoom_range=0.2,horizontal_flip=True)"
   ]
  },
  {
   "cell_type": "code",
   "execution_count": 4,
   "id": "8e7337b4",
   "metadata": {},
   "outputs": [
    {
     "name": "stdout",
     "output_type": "stream",
     "text": [
      "Found 8000 images belonging to 2 classes.\n"
     ]
    }
   ],
   "source": [
    "train_set = train_datagen.flow_from_directory(\n",
    "\"dataset/training_set\",\n",
    "target_size=(64,64),\n",
    "batch_size = 32,\n",
    "class_mode = 'binary')"
   ]
  },
  {
   "cell_type": "code",
   "execution_count": 5,
   "id": "bee6d0ca",
   "metadata": {},
   "outputs": [
    {
     "name": "stdout",
     "output_type": "stream",
     "text": [
      "Found 2000 images belonging to 2 classes.\n"
     ]
    }
   ],
   "source": [
    "test_set = train_datagen.flow_from_directory(\n",
    "\"dataset/test_set\",\n",
    "target_size=(64,64),\n",
    "batch_size = 32,\n",
    "class_mode = 'binary')"
   ]
  },
  {
   "cell_type": "code",
   "execution_count": 6,
   "id": "a0718793",
   "metadata": {},
   "outputs": [],
   "source": [
    "# building CNN\n",
    "cnn = tf.keras.models.Sequential()"
   ]
  },
  {
   "cell_type": "code",
   "execution_count": 7,
   "id": "b622a7a4",
   "metadata": {},
   "outputs": [],
   "source": [
    "# covolution layer\n",
    "cnn.add(tf.keras.layers.Conv2D(filters = 32, kernel_size = 3, activation ='relu',input_shape = [64,64,3]))"
   ]
  },
  {
   "cell_type": "code",
   "execution_count": 8,
   "id": "83674905",
   "metadata": {},
   "outputs": [],
   "source": [
    "# pooling layer\n",
    "cnn.add(tf.keras.layers.MaxPool2D(pool_size = 2, strides = 2))"
   ]
  },
  {
   "cell_type": "code",
   "execution_count": 9,
   "id": "81c6f165",
   "metadata": {},
   "outputs": [],
   "source": [
    "# adding second conv\n",
    "cnn.add(tf.keras.layers.Conv2D(filters = 32, kernel_size = 3, activation ='relu'))\n",
    "cnn.add(tf.keras.layers.MaxPool2D(pool_size = 2, strides = 2))"
   ]
  },
  {
   "cell_type": "code",
   "execution_count": 10,
   "id": "a83ed861",
   "metadata": {},
   "outputs": [],
   "source": [
    "# flattening\n",
    "cnn.add(tf.keras.layers.Flatten())"
   ]
  },
  {
   "cell_type": "code",
   "execution_count": 11,
   "id": "ccb8ba07",
   "metadata": {},
   "outputs": [],
   "source": [
    "# full connection \n",
    "cnn.add(tf.keras.layers.Dense(units = 128, activation = 'relu'))"
   ]
  },
  {
   "cell_type": "code",
   "execution_count": 12,
   "id": "5042ccd1",
   "metadata": {},
   "outputs": [],
   "source": [
    "# outer layer\n",
    "cnn.add(tf.keras.layers.Dense(units = 1, activation = 'sigmoid'))"
   ]
  },
  {
   "cell_type": "code",
   "execution_count": 13,
   "id": "2bd6bdd0",
   "metadata": {},
   "outputs": [],
   "source": [
    "#training the CNN\n",
    "# compling the CNN\n",
    "cnn.compile(optimizer='adam',loss='binary_crossentropy',metrics=['accuracy'])"
   ]
  },
  {
   "cell_type": "code",
   "execution_count": 14,
   "id": "52bdec38",
   "metadata": {},
   "outputs": [
    {
     "name": "stdout",
     "output_type": "stream",
     "text": [
      "Epoch 1/50\n",
      "250/250 [==============================] - 258s 1s/step - loss: 0.6673 - accuracy: 0.5935 - val_loss: 0.6258 - val_accuracy: 0.6560\n",
      "Epoch 2/50\n",
      "250/250 [==============================] - 46s 184ms/step - loss: 0.5989 - accuracy: 0.6816 - val_loss: 0.5836 - val_accuracy: 0.7100\n",
      "Epoch 3/50\n",
      "250/250 [==============================] - 46s 182ms/step - loss: 0.5631 - accuracy: 0.7120 - val_loss: 0.5681 - val_accuracy: 0.7115\n",
      "Epoch 4/50\n",
      "250/250 [==============================] - 44s 176ms/step - loss: 0.5196 - accuracy: 0.7414 - val_loss: 0.5492 - val_accuracy: 0.7315\n",
      "Epoch 5/50\n",
      "250/250 [==============================] - 45s 181ms/step - loss: 0.4968 - accuracy: 0.7550 - val_loss: 0.5188 - val_accuracy: 0.7420\n",
      "Epoch 6/50\n",
      "250/250 [==============================] - 43s 173ms/step - loss: 0.4792 - accuracy: 0.7713 - val_loss: 0.5039 - val_accuracy: 0.7585\n",
      "Epoch 7/50\n",
      "250/250 [==============================] - 48s 192ms/step - loss: 0.4536 - accuracy: 0.7862 - val_loss: 0.4889 - val_accuracy: 0.7710\n",
      "Epoch 8/50\n",
      "250/250 [==============================] - 45s 179ms/step - loss: 0.4350 - accuracy: 0.7958 - val_loss: 0.4980 - val_accuracy: 0.7650\n",
      "Epoch 9/50\n",
      "250/250 [==============================] - 42s 167ms/step - loss: 0.4196 - accuracy: 0.8058 - val_loss: 0.4932 - val_accuracy: 0.7705\n",
      "Epoch 10/50\n",
      "250/250 [==============================] - 41s 164ms/step - loss: 0.4060 - accuracy: 0.8087 - val_loss: 0.4896 - val_accuracy: 0.7810\n",
      "Epoch 11/50\n",
      "250/250 [==============================] - 41s 166ms/step - loss: 0.3842 - accuracy: 0.8235 - val_loss: 0.5071 - val_accuracy: 0.7655\n",
      "Epoch 12/50\n",
      "250/250 [==============================] - 41s 164ms/step - loss: 0.3676 - accuracy: 0.8322 - val_loss: 0.5197 - val_accuracy: 0.7670\n",
      "Epoch 13/50\n",
      "250/250 [==============================] - 41s 165ms/step - loss: 0.3629 - accuracy: 0.8360 - val_loss: 0.4668 - val_accuracy: 0.7875\n",
      "Epoch 14/50\n",
      "250/250 [==============================] - 40s 161ms/step - loss: 0.3350 - accuracy: 0.8490 - val_loss: 0.4907 - val_accuracy: 0.7845\n",
      "Epoch 15/50\n",
      "250/250 [==============================] - 41s 164ms/step - loss: 0.3294 - accuracy: 0.8596 - val_loss: 0.4964 - val_accuracy: 0.8015\n",
      "Epoch 16/50\n",
      "250/250 [==============================] - 40s 161ms/step - loss: 0.3046 - accuracy: 0.8723 - val_loss: 0.4957 - val_accuracy: 0.7945\n",
      "Epoch 17/50\n",
      "250/250 [==============================] - 40s 161ms/step - loss: 0.2975 - accuracy: 0.8745 - val_loss: 0.5008 - val_accuracy: 0.7970\n",
      "Epoch 18/50\n",
      "250/250 [==============================] - 41s 164ms/step - loss: 0.2731 - accuracy: 0.8816 - val_loss: 0.5090 - val_accuracy: 0.7905\n",
      "Epoch 19/50\n",
      "250/250 [==============================] - 41s 165ms/step - loss: 0.2593 - accuracy: 0.8928 - val_loss: 0.5145 - val_accuracy: 0.7865\n",
      "Epoch 20/50\n",
      "250/250 [==============================] - 40s 161ms/step - loss: 0.2492 - accuracy: 0.8963 - val_loss: 0.4911 - val_accuracy: 0.8085\n",
      "Epoch 21/50\n",
      "250/250 [==============================] - 40s 161ms/step - loss: 0.2379 - accuracy: 0.9050 - val_loss: 0.4928 - val_accuracy: 0.7950\n",
      "Epoch 22/50\n",
      "250/250 [==============================] - 41s 164ms/step - loss: 0.2131 - accuracy: 0.9161 - val_loss: 0.5324 - val_accuracy: 0.8075\n",
      "Epoch 23/50\n",
      "250/250 [==============================] - 40s 161ms/step - loss: 0.2178 - accuracy: 0.9114 - val_loss: 0.5296 - val_accuracy: 0.7890\n",
      "Epoch 24/50\n",
      "250/250 [==============================] - 41s 163ms/step - loss: 0.1949 - accuracy: 0.9218 - val_loss: 0.6120 - val_accuracy: 0.7880\n",
      "Epoch 25/50\n",
      "250/250 [==============================] - 40s 162ms/step - loss: 0.1888 - accuracy: 0.9268 - val_loss: 0.5469 - val_accuracy: 0.7940\n",
      "Epoch 26/50\n",
      "250/250 [==============================] - 43s 172ms/step - loss: 0.1783 - accuracy: 0.9289 - val_loss: 0.5548 - val_accuracy: 0.8065\n",
      "Epoch 27/50\n",
      "250/250 [==============================] - 45s 180ms/step - loss: 0.1701 - accuracy: 0.9325 - val_loss: 0.5764 - val_accuracy: 0.7985\n",
      "Epoch 28/50\n",
      "250/250 [==============================] - 128s 515ms/step - loss: 0.1576 - accuracy: 0.9383 - val_loss: 0.6028 - val_accuracy: 0.7915\n",
      "Epoch 29/50\n",
      "250/250 [==============================] - 93s 371ms/step - loss: 0.1338 - accuracy: 0.9477 - val_loss: 0.6183 - val_accuracy: 0.8040\n",
      "Epoch 30/50\n",
      "250/250 [==============================] - 41s 164ms/step - loss: 0.1413 - accuracy: 0.9460 - val_loss: 0.6311 - val_accuracy: 0.8045\n",
      "Epoch 31/50\n",
      "250/250 [==============================] - 42s 167ms/step - loss: 0.1334 - accuracy: 0.9479 - val_loss: 0.6453 - val_accuracy: 0.7915\n",
      "Epoch 32/50\n",
      "250/250 [==============================] - 40s 160ms/step - loss: 0.1261 - accuracy: 0.9517 - val_loss: 0.6778 - val_accuracy: 0.7915\n",
      "Epoch 33/50\n",
      "250/250 [==============================] - 40s 160ms/step - loss: 0.1249 - accuracy: 0.9515 - val_loss: 0.6055 - val_accuracy: 0.7945\n",
      "Epoch 34/50\n",
      "250/250 [==============================] - 41s 165ms/step - loss: 0.1208 - accuracy: 0.9563 - val_loss: 0.7646 - val_accuracy: 0.7795\n",
      "Epoch 35/50\n",
      "250/250 [==============================] - 40s 160ms/step - loss: 0.1052 - accuracy: 0.9610 - val_loss: 0.7167 - val_accuracy: 0.7820\n",
      "Epoch 36/50\n",
      "250/250 [==============================] - 41s 166ms/step - loss: 0.1080 - accuracy: 0.9615 - val_loss: 0.7025 - val_accuracy: 0.8005\n",
      "Epoch 37/50\n",
      "250/250 [==============================] - 40s 160ms/step - loss: 0.1044 - accuracy: 0.9625 - val_loss: 0.6944 - val_accuracy: 0.7980\n",
      "Epoch 38/50\n",
      "250/250 [==============================] - 41s 162ms/step - loss: 0.0951 - accuracy: 0.9631 - val_loss: 0.7369 - val_accuracy: 0.7995\n",
      "Epoch 39/50\n",
      "250/250 [==============================] - 41s 164ms/step - loss: 0.0936 - accuracy: 0.9654 - val_loss: 0.7132 - val_accuracy: 0.8075\n",
      "Epoch 40/50\n",
      "250/250 [==============================] - 40s 158ms/step - loss: 0.0839 - accuracy: 0.9691 - val_loss: 0.8123 - val_accuracy: 0.7850\n",
      "Epoch 41/50\n",
      "250/250 [==============================] - 40s 160ms/step - loss: 0.0881 - accuracy: 0.9679 - val_loss: 0.7771 - val_accuracy: 0.8060\n",
      "Epoch 42/50\n",
      "250/250 [==============================] - 40s 160ms/step - loss: 0.0847 - accuracy: 0.9697 - val_loss: 0.7588 - val_accuracy: 0.8015\n",
      "Epoch 43/50\n",
      "250/250 [==============================] - 40s 160ms/step - loss: 0.0734 - accuracy: 0.9735 - val_loss: 0.7401 - val_accuracy: 0.8100\n",
      "Epoch 44/50\n",
      "250/250 [==============================] - 41s 165ms/step - loss: 0.0689 - accuracy: 0.9743 - val_loss: 0.8061 - val_accuracy: 0.8085\n",
      "Epoch 45/50\n",
      "250/250 [==============================] - 40s 159ms/step - loss: 0.0753 - accuracy: 0.9732 - val_loss: 0.8318 - val_accuracy: 0.7935\n",
      "Epoch 46/50\n",
      "250/250 [==============================] - 43s 171ms/step - loss: 0.0729 - accuracy: 0.9735 - val_loss: 0.8567 - val_accuracy: 0.7925\n",
      "Epoch 47/50\n",
      "250/250 [==============================] - 44s 177ms/step - loss: 0.0729 - accuracy: 0.9726 - val_loss: 0.8321 - val_accuracy: 0.8030\n",
      "Epoch 48/50\n",
      "250/250 [==============================] - 45s 181ms/step - loss: 0.0702 - accuracy: 0.9775 - val_loss: 0.8783 - val_accuracy: 0.7980\n",
      "Epoch 49/50\n",
      "250/250 [==============================] - 41s 166ms/step - loss: 0.0693 - accuracy: 0.9761 - val_loss: 0.8622 - val_accuracy: 0.8065\n",
      "Epoch 50/50\n",
      "250/250 [==============================] - 40s 158ms/step - loss: 0.0630 - accuracy: 0.9770 - val_loss: 0.8372 - val_accuracy: 0.8060\n"
     ]
    },
    {
     "data": {
      "text/plain": [
       "<keras.callbacks.History at 0x2d4e6f48c40>"
      ]
     },
     "execution_count": 14,
     "metadata": {},
     "output_type": "execute_result"
    }
   ],
   "source": [
    "# training the CNN on the traing set and evaluation it on the test set\n",
    "cnn.fit(x=train_set, validation_data=test_set,epochs = 50)"
   ]
  },
  {
   "cell_type": "code",
   "execution_count": 31,
   "id": "6b1b01f0",
   "metadata": {},
   "outputs": [
    {
     "name": "stdout",
     "output_type": "stream",
     "text": [
      "cat\n"
     ]
    }
   ],
   "source": [
    "import numpy as np\n",
    "from keras.preprocessing import image\n",
    "test_image = image.load_img('dataset/single_prediction/cat_or_dog_3.jpg',target_size = (64,64))\n",
    "test_image = image.img_to_array(test_image)\n",
    "test_image = np.expand_dims(test_image,axis = 0)\n",
    "result = cnn.predict(test_image)\n",
    "train_set.class_indices\n",
    "if result[0][0] == 1:\n",
    "    prediction = 'dog'\n",
    "else:\n",
    "    prediction = 'cat'\n",
    "print(prediction)"
   ]
  },
  {
   "cell_type": "code",
   "execution_count": null,
   "id": "666dd71d",
   "metadata": {},
   "outputs": [],
   "source": []
  }
 ],
 "metadata": {
  "kernelspec": {
   "display_name": "Python 3",
   "language": "python",
   "name": "python3"
  },
  "language_info": {
   "codemirror_mode": {
    "name": "ipython",
    "version": 3
   },
   "file_extension": ".py",
   "mimetype": "text/x-python",
   "name": "python",
   "nbconvert_exporter": "python",
   "pygments_lexer": "ipython3",
   "version": "3.8.8"
  }
 },
 "nbformat": 4,
 "nbformat_minor": 5
}
