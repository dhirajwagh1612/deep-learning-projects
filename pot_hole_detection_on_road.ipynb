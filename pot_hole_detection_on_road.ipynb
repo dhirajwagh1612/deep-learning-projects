{
  "nbformat": 4,
  "nbformat_minor": 0,
  "metadata": {
    "colab": {
      "name": "pot_hole_detection on road.ipynb",
      "provenance": []
    },
    "kernelspec": {
      "display_name": "Python 3",
      "name": "python3"
    },
    "language_info": {
      "name": "python"
    }
  },
  "cells": [
    {
      "cell_type": "code",
      "metadata": {
        "id": "a37YwwutVwY7"
      },
      "source": [
        "import tensorflow as tf\n",
        "from keras.preprocessing.image import ImageDataGenerator\n",
        "from PIL import Image"
      ],
      "execution_count": null,
      "outputs": []
    },
    {
      "cell_type": "code",
      "metadata": {
        "colab": {
          "base_uri": "https://localhost:8080/"
        },
        "id": "zH2UcCA5VyG6",
        "outputId": "eb513051-82a7-487d-d95c-7a7489dcadba"
      },
      "source": [
        "\n",
        "from google.colab import drive\n",
        "drive.mount('/content/drive')"
      ],
      "execution_count": null,
      "outputs": [
        {
          "name": "stdout",
          "output_type": "stream",
          "text": [
            "Mounted at /content/drive\n"
          ]
        }
      ]
    },
    {
      "cell_type": "code",
      "metadata": {
        "id": "S7DTQeH4V5vo"
      },
      "source": [
        "# preprocessing the training set\n",
        "train_datagen = ImageDataGenerator(\n",
        "rescale=1./255,\n",
        "shear_range=0.2,\n",
        "zoom_range=0.2,horizontal_flip=True)"
      ],
      "execution_count": null,
      "outputs": []
    },
    {
      "cell_type": "code",
      "metadata": {
        "colab": {
          "base_uri": "https://localhost:8080/"
        },
        "id": "iXovQ0a7WCqo",
        "outputId": "f4e575a0-d94e-432e-a5db-6c03df589b99"
      },
      "source": [
        "train_set = train_datagen.flow_from_directory(\n",
        "\"/content/drive/My Drive/datasets/pothole_detection on road/train\",\n",
        "target_size=(64,64),\n",
        "batch_size = 32,\n",
        "class_mode = 'binary')"
      ],
      "execution_count": null,
      "outputs": [
        {
          "name": "stdout",
          "output_type": "stream",
          "text": [
            "Found 696 images belonging to 2 classes.\n"
          ]
        }
      ]
    },
    {
      "cell_type": "code",
      "metadata": {
        "colab": {
          "base_uri": "https://localhost:8080/"
        },
        "id": "YZpjzg12WRZY",
        "outputId": "ba7462b8-45f6-43e7-99d8-e099a1edaf7a"
      },
      "source": [
        "test_set = train_datagen.flow_from_directory(\n",
        "\"/content/drive/My Drive/datasets/pothole_detection on road/test\",\n",
        "target_size=(64,64),\n",
        "batch_size = 32,\n",
        "class_mode = 'binary')"
      ],
      "execution_count": null,
      "outputs": [
        {
          "name": "stdout",
          "output_type": "stream",
          "text": [
            "Found 16 images belonging to 2 classes.\n"
          ]
        }
      ]
    },
    {
      "cell_type": "code",
      "metadata": {
        "id": "EXjPLiYCWeY5"
      },
      "source": [
        "# building CNN\n",
        "cnn = tf.keras.models.Sequential()"
      ],
      "execution_count": null,
      "outputs": []
    },
    {
      "cell_type": "code",
      "metadata": {
        "id": "eBYWre3QWgQ3"
      },
      "source": [
        "# covolution layer\n",
        "cnn.add(tf.keras.layers.Conv2D(filters = 32, kernel_size = 3, activation ='relu',input_shape = [64,64,3]))"
      ],
      "execution_count": null,
      "outputs": []
    },
    {
      "cell_type": "code",
      "metadata": {
        "id": "3OXSZZkBWhov"
      },
      "source": [
        "# pooling layer\n",
        "cnn.add(tf.keras.layers.MaxPool2D(pool_size = 2, strides = 2))"
      ],
      "execution_count": null,
      "outputs": []
    },
    {
      "cell_type": "code",
      "metadata": {
        "id": "giEjIepPWjL_"
      },
      "source": [
        "# adding second conv\n",
        "cnn.add(tf.keras.layers.Conv2D(filters = 32, kernel_size = 3, activation ='relu'))\n",
        "cnn.add(tf.keras.layers.MaxPool2D(pool_size = 2, strides = 2))"
      ],
      "execution_count": null,
      "outputs": []
    },
    {
      "cell_type": "code",
      "metadata": {
        "id": "OCPSWQK2WkoX"
      },
      "source": [
        "# flattening\n",
        "cnn.add(tf.keras.layers.Flatten())"
      ],
      "execution_count": null,
      "outputs": []
    },
    {
      "cell_type": "code",
      "metadata": {
        "id": "yaUaqy7TWmGH"
      },
      "source": [
        "# full connection \n",
        "cnn.add(tf.keras.layers.Dense(units = 128, activation = 'relu'))"
      ],
      "execution_count": null,
      "outputs": []
    },
    {
      "cell_type": "code",
      "metadata": {
        "id": "zXkcQ1cVWngw"
      },
      "source": [
        "# outer layer\n",
        "cnn.add(tf.keras.layers.Dense(units = 1, activation = 'sigmoid'))"
      ],
      "execution_count": null,
      "outputs": []
    },
    {
      "cell_type": "code",
      "metadata": {
        "id": "lj-tnJKEWpCI"
      },
      "source": [
        "#training the CNN\n",
        "# compling the CNN\n",
        "cnn.compile(optimizer='adam',loss='binary_crossentropy',metrics=['accuracy'])"
      ],
      "execution_count": null,
      "outputs": []
    },
    {
      "cell_type": "code",
      "metadata": {
        "colab": {
          "background_save": true,
          "base_uri": "https://localhost:8080/"
        },
        "id": "7pKkIgBRWqXI",
        "outputId": "e6b5c5eb-ca43-4a18-e125-66dc276445cc"
      },
      "source": [
        "# training the CNN on the traing set and evaluation it on the test set\n",
        "cnn.fit(x=train_set, validation_data=test_set,epochs = 20)"
      ],
      "execution_count": null,
      "outputs": [
        {
          "name": "stdout",
          "output_type": "stream",
          "text": [
            "Epoch 1/20\n",
            "22/22 [==============================] - 280s 13s/step - loss: 0.6706 - accuracy: 0.6236 - val_loss: 0.6678 - val_accuracy: 0.5625\n",
            "Epoch 2/20\n",
            "22/22 [==============================] - 20s 907ms/step - loss: 0.4434 - accuracy: 0.8089 - val_loss: 0.7409 - val_accuracy: 0.5625\n",
            "Epoch 3/20\n",
            "22/22 [==============================] - 20s 906ms/step - loss: 0.3565 - accuracy: 0.8592 - val_loss: 0.7090 - val_accuracy: 0.5625\n",
            "Epoch 4/20\n",
            "22/22 [==============================] - 20s 891ms/step - loss: 0.3156 - accuracy: 0.8707 - val_loss: 0.7824 - val_accuracy: 0.6875\n",
            "Epoch 5/20\n",
            "22/22 [==============================] - 20s 900ms/step - loss: 0.3336 - accuracy: 0.8606 - val_loss: 0.6724 - val_accuracy: 0.5625\n",
            "Epoch 6/20\n",
            "22/22 [==============================] - 20s 872ms/step - loss: 0.2961 - accuracy: 0.8678 - val_loss: 0.6162 - val_accuracy: 0.6875\n",
            "Epoch 7/20\n",
            "22/22 [==============================] - 20s 862ms/step - loss: 0.2835 - accuracy: 0.8750 - val_loss: 0.6289 - val_accuracy: 0.6250\n",
            "Epoch 8/20\n",
            "22/22 [==============================] - 20s 873ms/step - loss: 0.2514 - accuracy: 0.9009 - val_loss: 0.6611 - val_accuracy: 0.7500\n",
            "Epoch 9/20\n",
            "22/22 [==============================] - 20s 832ms/step - loss: 0.2450 - accuracy: 0.9023 - val_loss: 0.6121 - val_accuracy: 0.6875\n",
            "Epoch 10/20\n",
            "22/22 [==============================] - 20s 899ms/step - loss: 0.1940 - accuracy: 0.9138 - val_loss: 0.5942 - val_accuracy: 0.6250\n",
            "Epoch 11/20\n",
            "22/22 [==============================] - 20s 847ms/step - loss: 0.2427 - accuracy: 0.9009 - val_loss: 0.5341 - val_accuracy: 0.7500\n",
            "Epoch 12/20\n",
            "22/22 [==============================] - 20s 908ms/step - loss: 0.2197 - accuracy: 0.9009 - val_loss: 0.8257 - val_accuracy: 0.6250\n",
            "Epoch 13/20\n",
            "22/22 [==============================] - 20s 842ms/step - loss: 0.2051 - accuracy: 0.9152 - val_loss: 0.5340 - val_accuracy: 0.7500\n",
            "Epoch 14/20\n",
            "22/22 [==============================] - 20s 880ms/step - loss: 0.1760 - accuracy: 0.9296 - val_loss: 0.6814 - val_accuracy: 0.5625\n",
            "Epoch 15/20\n",
            "22/22 [==============================] - 20s 852ms/step - loss: 0.1802 - accuracy: 0.9138 - val_loss: 0.7338 - val_accuracy: 0.7500\n",
            "Epoch 16/20\n",
            "22/22 [==============================] - 20s 892ms/step - loss: 0.1581 - accuracy: 0.9325 - val_loss: 0.5980 - val_accuracy: 0.6875\n",
            "Epoch 17/20\n",
            "22/22 [==============================] - 20s 870ms/step - loss: 0.1394 - accuracy: 0.9425 - val_loss: 0.5519 - val_accuracy: 0.6875\n",
            "Epoch 18/20\n",
            "22/22 [==============================] - 20s 892ms/step - loss: 0.1243 - accuracy: 0.9526 - val_loss: 0.7602 - val_accuracy: 0.6875\n",
            "Epoch 19/20\n",
            "22/22 [==============================] - 20s 901ms/step - loss: 0.1370 - accuracy: 0.9511 - val_loss: 0.5975 - val_accuracy: 0.6875\n",
            "Epoch 20/20\n",
            "22/22 [==============================] - 20s 900ms/step - loss: 0.1441 - accuracy: 0.9483 - val_loss: 0.7078 - val_accuracy: 0.6875\n"
          ]
        },
        {
          "data": {
            "text/plain": [
              "<keras.callbacks.History at 0x7fc332c66250>"
            ]
          },
          "execution_count": null,
          "metadata": {},
          "output_type": "execute_result"
        }
      ]
    },
    {
      "cell_type": "code",
      "metadata": {
        "colab": {
          "background_save": true
        },
        "id": "FaSRx4hJWr-Q"
      },
      "source": [
        "import numpy as np\n",
        "from keras.preprocessing import image\n",
        "test_image = image.load_img('/content/drive/My Drive/datasets/pothole_detection on road/test/Plain/1.jpg',target_size = (64,64))\n",
        "test_image = image.img_to_array(test_image)\n",
        "test_image = np.expand_dims(test_image,axis = 0)\n",
        "result = cnn.predict(test_image)\n",
        "train_set.class_indices\n",
        "if result[0][0] == 1:\n",
        "    prediction = 'Clear road'\n",
        "else:\n",
        "    prediction = 'pothole'\n",
        "print(prediction)"
      ],
      "execution_count": null,
      "outputs": []
    },
    {
      "cell_type": "code",
      "metadata": {
        "colab": {
          "background_save": true
        },
        "id": "ZGGKS5uQ48cr"
      },
      "source": [
        ""
      ],
      "execution_count": null,
      "outputs": []
    }
  ]
}